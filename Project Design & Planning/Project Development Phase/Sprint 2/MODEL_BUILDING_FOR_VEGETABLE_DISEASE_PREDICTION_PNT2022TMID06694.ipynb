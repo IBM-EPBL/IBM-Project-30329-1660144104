{
  "nbformat": 4,
  "nbformat_minor": 0,
  "metadata": {
    "colab": {
      "provenance": [],
      "collapsed_sections": []
    },
    "kernelspec": {
      "name": "python3",
      "display_name": "Python 3"
    },
    "language_info": {
      "name": "python"
    }
  },
  "cells": [
    {
      "cell_type": "markdown",
      "source": [
        "TEAM_ID:PNT2022TMID06694\n",
        "_IMAGE PREPROCESSING"
      ],
      "metadata": {
        "id": "fen9qoon3yCc"
      }
    },
    {
      "cell_type": "code",
      "source": [
        "ls"
      ],
      "metadata": {
        "colab": {
          "base_uri": "https://localhost:8080/"
        },
        "id": "TyupfjWU4Ams",
        "outputId": "0dfa055d-2302-4567-c9c4-b9d55f844e62"
      },
      "execution_count": null,
      "outputs": [
        {
          "output_type": "stream",
          "name": "stdout",
          "text": [
            "\u001b[0m\u001b[01;34m'Dataset Plant Disease'\u001b[0m/   Data_set.zip   Fruit.h5\n"
          ]
        }
      ]
    },
    {
      "cell_type": "code",
      "execution_count": null,
      "metadata": {
        "colab": {
          "base_uri": "https://localhost:8080/"
        },
        "id": "vv2mtP8arMvJ",
        "outputId": "f2d813ce-6c90-414f-df8c-7eef26d3f0f8"
      },
      "outputs": [
        {
          "output_type": "stream",
          "name": "stdout",
          "text": [
            "/content/drive/MyDrive/IBM/Dataset\n"
          ]
        }
      ],
      "source": [
        "cd /content/drive/MyDrive/IBM/Dataset"
      ]
    },
    {
      "cell_type": "code",
      "source": [
        "from tensorflow.keras.preprocessing.image import ImageDataGenerator"
      ],
      "metadata": {
        "id": "w5ERGPOE4HHo"
      },
      "execution_count": null,
      "outputs": []
    },
    {
      "cell_type": "code",
      "source": [
        "train_datagen = ImageDataGenerator(rescale= 1./255,horizontal_flip = True,vertical_flip = True,zoom_range = 0.2)"
      ],
      "metadata": {
        "id": "Pc-i4hsS4HWL"
      },
      "execution_count": null,
      "outputs": []
    },
    {
      "cell_type": "code",
      "source": [
        "test_datagen = ImageDataGenerator(rescale= 1./255)"
      ],
      "metadata": {
        "id": "anED0bdq4HaO"
      },
      "execution_count": null,
      "outputs": []
    },
    {
      "cell_type": "code",
      "source": [
        "x_train = train_datagen.flow_from_directory(r\"/content/drive/MyDrive/IBM/Dataset/Dataset Plant Disease/Veg-dataset/Veg-dataset/train_set\",target_size = (64,64),\n",
        "                                            class_mode = \"categorical\",batch_size = 24)"
      ],
      "metadata": {
        "colab": {
          "base_uri": "https://localhost:8080/"
        },
        "id": "VtK4xSUB4HeR",
        "outputId": "89d9e880-aefe-4a36-d004-a283aefe619b"
      },
      "execution_count": null,
      "outputs": [
        {
          "output_type": "stream",
          "name": "stdout",
          "text": [
            "Found 11386 images belonging to 9 classes.\n"
          ]
        }
      ]
    },
    {
      "cell_type": "code",
      "source": [
        "x_test = test_datagen.flow_from_directory(r\"/content/drive/MyDrive/IBM/Dataset/Dataset Plant Disease/Veg-dataset/Veg-dataset/test_set\",target_size = (64,64),\n",
        "                                                                                      class_mode = \"categorical\",batch_size = 24)"
      ],
      "metadata": {
        "colab": {
          "base_uri": "https://localhost:8080/"
        },
        "id": "dU-vqjoc4Htv",
        "outputId": "d75a6b53-8653-4ac5-c54c-abc2a98c9de7"
      },
      "execution_count": null,
      "outputs": [
        {
          "output_type": "stream",
          "name": "stdout",
          "text": [
            "Found 3416 images belonging to 9 classes.\n"
          ]
        }
      ]
    },
    {
      "cell_type": "markdown",
      "source": [
        "MODEL BUILDING FOR VEGETABLE DISEASE PREDICTION"
      ],
      "metadata": {
        "id": "TUC99qGZ4eCb"
      }
    },
    {
      "cell_type": "code",
      "source": [
        "from tensorflow.keras.models import Sequential\n",
        "from tensorflow.keras.layers import Convolution2D,MaxPooling2D,Flatten,Dense"
      ],
      "metadata": {
        "id": "JhiQ5hPJ4izR"
      },
      "execution_count": null,
      "outputs": []
    },
    {
      "cell_type": "code",
      "source": [
        "model = Sequential()"
      ],
      "metadata": {
        "id": "SVJEMIgX4jCR"
      },
      "execution_count": null,
      "outputs": []
    },
    {
      "cell_type": "code",
      "source": [
        "model.add(Convolution2D(32,(3,3),activation = \"relu\",input_shape = (64,64,3)))"
      ],
      "metadata": {
        "id": "1rMT8k6t4jGV"
      },
      "execution_count": null,
      "outputs": []
    },
    {
      "cell_type": "code",
      "source": [
        "model.add(MaxPooling2D(pool_size = (2,2)))"
      ],
      "metadata": {
        "id": "XaGxEdpi4jLv"
      },
      "execution_count": null,
      "outputs": []
    },
    {
      "cell_type": "code",
      "source": [
        "model.add(Flatten())"
      ],
      "metadata": {
        "id": "m539itpe4jRh"
      },
      "execution_count": null,
      "outputs": []
    },
    {
      "cell_type": "code",
      "source": [
        "model.add(Dense(300, activation='relu'))"
      ],
      "metadata": {
        "id": "LWhqetGs4jdX"
      },
      "execution_count": null,
      "outputs": []
    },
    {
      "cell_type": "code",
      "source": [
        "model.add(Dense(300, activation='relu'))"
      ],
      "metadata": {
        "id": "mS6RfgOI4jpo"
      },
      "execution_count": null,
      "outputs": []
    },
    {
      "cell_type": "code",
      "source": [
        "model.add(Dense(9, activation=\"softmax\"))"
      ],
      "metadata": {
        "id": "5yLNX5B44jtJ"
      },
      "execution_count": null,
      "outputs": []
    },
    {
      "cell_type": "code",
      "source": [
        "model.compile(loss=\"categorical_crossentropy\", metrics=[\"accuracy\"], optimizer='adam')"
      ],
      "metadata": {
        "id": "7ZBVRIgJ4jwy"
      },
      "execution_count": null,
      "outputs": []
    },
    {
      "cell_type": "code",
      "source": [
        "len(x_train)"
      ],
      "metadata": {
        "colab": {
          "base_uri": "https://localhost:8080/"
        },
        "id": "205AjPZO4jz2",
        "outputId": "276f0635-8188-454e-f1e0-78b7d4f10498"
      },
      "execution_count": null,
      "outputs": [
        {
          "output_type": "execute_result",
          "data": {
            "text/plain": [
              "475"
            ]
          },
          "metadata": {},
          "execution_count": 45
        }
      ]
    },
    {
      "cell_type": "code",
      "source": [
        "model.fit(x_train, epochs = 10, validation_data=x_test, steps_per_epoch=len(x_train), validation_steps=len(x_test))"
      ],
      "metadata": {
        "colab": {
          "base_uri": "https://localhost:8080/"
        },
        "id": "MM6bhXSZ4j3M",
        "outputId": "c6e869b9-3ce0-43e8-9285-73f403c352a0"
      },
      "execution_count": null,
      "outputs": [
        {
          "output_type": "stream",
          "name": "stdout",
          "text": [
            "Epoch 1/10\n",
            "475/475 [==============================] - 82s 171ms/step - loss: 1.1919 - accuracy: 0.5849 - val_loss: 0.8610 - val_accuracy: 0.7040\n",
            "Epoch 2/10\n",
            "475/475 [==============================] - 81s 171ms/step - loss: 0.6648 - accuracy: 0.7619 - val_loss: 0.7101 - val_accuracy: 0.7327\n",
            "Epoch 3/10\n",
            "475/475 [==============================] - 81s 171ms/step - loss: 0.5339 - accuracy: 0.8080 - val_loss: 0.3565 - val_accuracy: 0.8756\n",
            "Epoch 4/10\n",
            "475/475 [==============================] - 81s 171ms/step - loss: 0.4444 - accuracy: 0.8386 - val_loss: 0.3319 - val_accuracy: 0.8855\n",
            "Epoch 5/10\n",
            "475/475 [==============================] - 81s 171ms/step - loss: 0.3668 - accuracy: 0.8683 - val_loss: 0.3237 - val_accuracy: 0.8814\n",
            "Epoch 6/10\n",
            "475/475 [==============================] - 82s 173ms/step - loss: 0.3313 - accuracy: 0.8809 - val_loss: 0.4426 - val_accuracy: 0.8574\n",
            "Epoch 7/10\n",
            "475/475 [==============================] - 82s 172ms/step - loss: 0.3155 - accuracy: 0.8885 - val_loss: 0.1996 - val_accuracy: 0.9262\n",
            "Epoch 8/10\n",
            "475/475 [==============================] - 82s 173ms/step - loss: 0.2836 - accuracy: 0.8995 - val_loss: 0.7287 - val_accuracy: 0.7828\n",
            "Epoch 9/10\n",
            "475/475 [==============================] - 84s 177ms/step - loss: 0.2745 - accuracy: 0.9027 - val_loss: 0.2260 - val_accuracy: 0.9192\n",
            "Epoch 10/10\n",
            "475/475 [==============================] - 80s 169ms/step - loss: 0.2464 - accuracy: 0.9102 - val_loss: 0.2128 - val_accuracy: 0.9259\n"
          ]
        },
        {
          "output_type": "execute_result",
          "data": {
            "text/plain": [
              "<keras.callbacks.History at 0x7f10f10d28d0>"
            ]
          },
          "metadata": {},
          "execution_count": 46
        }
      ]
    },
    {
      "cell_type": "code",
      "source": [
        "model.save(\"VEGETABLE.h5\")"
      ],
      "metadata": {
        "id": "tZeP5Ex94j6l"
      },
      "execution_count": null,
      "outputs": []
    }
  ]
}